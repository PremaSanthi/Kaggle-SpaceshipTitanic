{
  "nbformat": 4,
  "nbformat_minor": 0,
  "metadata": {
    "colab": {
      "provenance": [],
      "authorship_tag": "ABX9TyMXNYGUkgnKejid3ZVTxY1Z",
      "include_colab_link": true
    },
    "kernelspec": {
      "name": "python3",
      "display_name": "Python 3"
    },
    "language_info": {
      "name": "python"
    }
  },
  "cells": [
    {
      "cell_type": "markdown",
      "metadata": {
        "id": "view-in-github",
        "colab_type": "text"
      },
      "source": [
        "<a href=\"https://colab.research.google.com/github/PremaSanthi/Kaggle-SpaceshipTitanic/blob/main/Kaggle_SpaceshipTitanic.ipynb\" target=\"_parent\"><img src=\"https://colab.research.google.com/assets/colab-badge.svg\" alt=\"Open In Colab\"/></a>"
      ]
    },
    {
      "cell_type": "code",
      "execution_count": null,
      "metadata": {
        "id": "twGwSjKK6dMh"
      },
      "outputs": [],
      "source": [
        "from google.colab import drive\n",
        "drive.mount('/content/drive')\n",
        "file_path='/content/drive/MyDrive/Colab Notebooks/COMP2026_Visual Analytics/train_clean.csv'\n",
        "import pandas as pd\n",
        "train_clean = pd.read_csv(file_path)\n",
        "train_clean.head()"
      ]
    },
    {
      "cell_type": "code",
      "source": [
        "import pandas as pd\n",
        "import networkx as nx\n",
        "import matplotlib.pyplot as plt\n",
        "\n",
        "\n",
        "df_sampled = train_clean.sample(200, random_state=42)\n",
        "\n",
        "features = ['Destination', 'CryoSleep']\n",
        "\n",
        "# Bipartite graph\n",
        "G = nx.Graph()\n",
        "\n",
        "\n",
        "for _, row in df_sampled.iterrows():\n",
        "    passenger = row['PassengerId']\n",
        "    for feature in features:\n",
        "        feature_value = f\"{feature}:{row[feature]}\"\n",
        "        G.add_node(passenger, bipartite=0)  # Passenger node\n",
        "        G.add_node(feature_value, bipartite=1,\n",
        "                   destination_name=row['Destination'] if feature == 'Destination' else None,\n",
        "                   cryo_sleep_value=row['CryoSleep'] if feature == 'CryoSleep' else None)  # Feature node\n",
        "        G.add_edge(passenger, feature_value)\n",
        "\n",
        "# Dictionary\n",
        "node_colors = {\n",
        "    'Destination:55 Cancri e': 'lightblue',\n",
        "    'Destination:PSO J318.5-22': 'blue',\n",
        "    'Destination:TRAPPIST-1e': 'darkblue',\n",
        "    'CryoSleep:True': 'lightcoral',  # Light red for True\n",
        "    'CryoSleep:False': 'red'        # Red for False\n",
        "}\n",
        "\n",
        "\n",
        "colors = [node_colors.get(node, 'gray') for node in G.nodes()]\n",
        "\n",
        "\n",
        "plt.figure(figsize=(12, 8))\n",
        "pos = nx.spring_layout(G, k=0.15)  # Adjust k for node spacing\n",
        "nx.draw(G, pos, node_size=100, edge_color='gray', with_labels=False, node_color=colors)\n",
        "plt.title(\"Feature-Based Network of Passengers\", fontsize=20)\n",
        "\n",
        "\n",
        "from collections import defaultdict\n",
        "legend_labels = defaultdict(list)\n",
        "for node, color in zip(G.nodes(), colors):\n",
        "    if color != 'gray':  # Exclude passenger nodes (gray)\n",
        "        label = node.split(':')[0]  # Get the variable name (Destination, CryoSleep)\n",
        "        if node not in legend_labels[color]:  # Avoid duplicate entries\n",
        "            legend_labels[color].append(node)\n",
        "\n",
        "legend_handles = [plt.Line2D([0], [0], marker='o', color='w', label=f'{\", \".join(labels)}',\n",
        "                              markerfacecolor=color, markersize=10)\n",
        "                   for color, labels in legend_labels.items()]\n",
        "plt.legend(handles=legend_handles, loc='upper right', fontsize=16)\n",
        "\n",
        "\n",
        "plt.show()"
      ],
      "metadata": {
        "id": "Y80ltrI76uNe"
      },
      "execution_count": null,
      "outputs": []
    },
    {
      "cell_type": "code",
      "source": [
        "ax=sns.heatmap(pd.crosstab(train_clean['HomePlanet'], train_clean['Destination']), annot=True, cmap=\"Blues\", fmt= '.0f')\n",
        "\n",
        "ax.set_xlabel(\"Destination\", fontsize=14, fontweight='bold')  # Modify x label\n",
        "ax.set_ylabel(\"HomePlanet\", fontsize=14, fontweight='bold')  # Modify y label\n",
        "plt.show()"
      ],
      "metadata": {
        "id": "mb2rNS-z7SRF"
      },
      "execution_count": null,
      "outputs": []
    },
    {
      "cell_type": "code",
      "source": [
        "!pip install scikit-learn\n",
        "\n",
        "import pandas as pd\n",
        "import numpy as np\n",
        "from sklearn.model_selection import train_test_split\n",
        "from sklearn.linear_model import LogisticRegression\n",
        "from sklearn.metrics import roc_curve, roc_auc_score\n",
        "import matplotlib.pyplot as plt\n",
        "from sklearn.preprocessing import OneHotEncoder\n",
        "\n",
        "\n",
        "# 1. Prepare the data:\n",
        "features = ['CryoSleep', 'Deck']\n",
        "target = 'Transported'\n",
        "\n",
        "X = train_clean[features]\n",
        "y = train_clean[target]\n",
        "\n",
        "# Handle categorical features ('Deck', 'CryoSleep') using OneHotEncoder\n",
        "encoder = OneHotEncoder(sparse_output=False, handle_unknown='ignore')  # sparse=False for LogisticRegression\n",
        "encoded_features = pd.DataFrame(encoder.fit_transform(X[['Deck', 'CryoSleep']]),\n",
        "                                 columns=encoder.get_feature_names_out(['Deck', 'CryoSleep']),\n",
        "                                 index=X.index)\n",
        "\n",
        "X = X.drop(['Deck', 'CryoSleep'], axis=1)  # Remove original categorical columns\n",
        "X = pd.concat([X, encoded_features], axis=1)  # Add encoded features\n",
        "\n",
        "# 2. Split data into training and testing sets:\n",
        "X_train, X_test, y_train, y_test = train_test_split(X, y, test_size=0.2, random_state=42)\n",
        "\n",
        "# 3. Train a model (Logistic Regression in this example):\n",
        "model = LogisticRegression()\n",
        "model.fit(X_train, y_train)\n",
        "\n",
        "# 4. Predict probabilities for the test set:\n",
        "y_probs = model.predict_proba(X_test)[:, 1]  # Probability of class 1 (Transported)\n",
        "\n",
        "# 5. Calculate ROC curve and AUC score:\n",
        "fpr, tpr, thresholds = roc_curve(y_test, y_probs)\n",
        "auc_score = roc_auc_score(y_test, y_probs)\n",
        "\n",
        "# 6. Plot the ROC curve:\n",
        "plt.figure(figsize=(8, 6))\n",
        "plt.plot(fpr, tpr, label=f'ROC Curve (AUC = {auc_score:.2f})')\n",
        "plt.plot([0, 1], [0, 1], 'k--', label='Random')  # Diagonal line for random classifier\n",
        "plt.xlabel('False Positive Rate')\n",
        "plt.ylabel('True Positive Rate')\n",
        "plt.title('ROC Curve for Transported Prediction')\n",
        "plt.legend(loc='lower right')\n",
        "plt.show()"
      ],
      "metadata": {
        "id": "0vwarxlM7Tb6"
      },
      "execution_count": null,
      "outputs": []
    },
    {
      "cell_type": "code",
      "source": [
        "from google.colab import drive\n",
        "drive.mount('/content/drive')\n",
        "file_path='/content/drive/MyDrive/Colab Notebooks/COMP2026_Visual Analytics/train_clean.csv'\n",
        "import pandas as pd\n",
        "train_clean = pd.read_csv(file_path)\n",
        "\n",
        "!pip install scikit-learn\n",
        "\n",
        "import pandas as pd\n",
        "import numpy as np\n",
        "from sklearn.model_selection import train_test_split\n",
        "from sklearn.linear_model import LogisticRegression\n",
        "from sklearn.metrics import roc_curve, roc_auc_score\n",
        "import matplotlib.pyplot as plt\n",
        "from sklearn.preprocessing import OneHotEncoder\n",
        "\n",
        "\n",
        "\n",
        "features = ['Side', 'Deck']\n",
        "target = 'Transported'\n",
        "\n",
        "X = train_clean[features]\n",
        "y = train_clean[target]\n",
        "\n",
        "encoder = OneHotEncoder(sparse_output=False, handle_unknown='ignore')\n",
        "encoded_features = pd.DataFrame(encoder.fit_transform(X[['Deck', 'Side']]),\n",
        "                                 columns=encoder.get_feature_names_out(['Deck', 'Side']),\n",
        "                                 index=X.index)\n",
        "\n",
        "X = X.drop(['Deck', 'Side'], axis=1)\n",
        "X = pd.concat([X, encoded_features], axis=1)\n",
        "\n",
        "X_train, X_test, y_train, y_test = train_test_split(X, y, test_size=0.2, random_state=42)\n",
        "\n",
        "model = LogisticRegression()\n",
        "model.fit(X_train, y_train)\n",
        "\n",
        "y_probs = model.predict_proba(X_test)[:, 1]  ]\n",
        "\n",
        "fpr, tpr, thresholds = roc_curve(y_test, y_probs)\n",
        "auc_score = roc_auc_score(y_test, y_probs)\n",
        "\n",
        "plt.figure(figsize=(8, 6))\n",
        "plt.plot(fpr, tpr, label=f'ROC Curve (AUC = {auc_score:.2f})')\n",
        "plt.plot([0, 1], [0, 1], 'k--', label='Random')\n",
        "plt.xlabel('False Positive Rate')\n",
        "plt.ylabel('True Positive Rate')\n",
        "plt.title('ROC Curve for Transported Prediction')\n",
        "plt.legend(loc='lower right')\n",
        "plt.show()"
      ],
      "metadata": {
        "id": "XMJLdQUa7p5Z"
      },
      "execution_count": null,
      "outputs": []
    },
    {
      "cell_type": "code",
      "source": [
        "import pandas as pd\n",
        "from IPython.display import display_html\n",
        "\n",
        "\n",
        "\n",
        "def highlight_max(data):\n",
        "    is_max = data == data.max().max()  # Find overall maximum\n",
        "    result = pd.DataFrame('', index=data.index, columns=data.columns)\n",
        "    result[is_max] = 'background-color: yellow'\n",
        "    return result\n",
        "\n",
        "\n",
        "styled_table_true = table_true.style.apply(highlight_max, axis=None).set_table_styles([\n",
        "    {'selector': 'table', 'props': [('border', '1px solid black'), ('border-collapse', 'collapse')]},\n",
        "    {'selector': 'th, td', 'props': [('border', '1px solid black'), ('padding', '8px')]}\n",
        "]).set_caption(\"Transported = True\")\n",
        "\n",
        "styled_table_false = table_false.style.apply(highlight_max, axis=None).set_table_styles([\n",
        "    {'selector': 'table', 'props': [('border', '1px solid black'), ('border-collapse', 'collapse')]},\n",
        "    {'selector': 'th, td', 'props': [('border', '1px solid black'), ('padding', '8px')]}\n",
        "]).set_caption(\"Transported = False\")\n",
        "\n",
        "\n",
        "table_true_html = styled_table_true.to_html()\n",
        "table_false_html = styled_table_false.to_html()\n",
        "\n",
        "display_html(f\"<div style='display: flex; gap: 20px;'>{table_true_html}{table_false_html}</div>\", raw=True)"
      ],
      "metadata": {
        "id": "uHidp-Zs776F"
      },
      "execution_count": null,
      "outputs": []
    },
    {
      "cell_type": "code",
      "source": [
        "import pandas as pd\n",
        "\n",
        "table = pd.crosstab([train_clean['Deck'], train_clean['Side']], train_clean['Transported'])\n",
        "\n",
        "styled_table = table.style.set_table_styles([\n",
        "    {'selector': 'table', 'props': [('border', '1px solid black'), ('border-collapse', 'collapse')]},\n",
        "    {'selector': 'th, td', 'props': [('border', '1px solid black'), ('padding', '8px')]}\n",
        "])\n",
        "\n",
        "display(styled_table)"
      ],
      "metadata": {
        "id": "UE0H9qJQ8KML"
      },
      "execution_count": null,
      "outputs": []
    }
  ]
}